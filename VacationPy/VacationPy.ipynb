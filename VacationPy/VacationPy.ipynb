{
 "cells": [
  {
   "cell_type": "markdown",
   "metadata": {},
   "source": [
    "# VacationPy\n",
    "----\n",
    "\n",
    "#### Note\n",
    "* Keep an eye on your API usage. Use https://developers.google.com/maps/reporting/gmp-reporting as reference for how to monitor your usage and billing.\n",
    "\n",
    "* Instructions have been included for each segment. You do not have to follow them exactly, but they are included to help you think through the steps."
   ]
  },
  {
   "cell_type": "code",
   "execution_count": 1,
   "metadata": {},
   "outputs": [],
   "source": [
    "# Dependencies and Setup\n",
    "import matplotlib.pyplot as plt\n",
    "import pandas as pd\n",
    "import numpy as np\n",
    "import requests\n",
    "import gmaps\n",
    "import os\n",
    "\n",
    "# Import API key\n",
    "from api_keys import g_key"
   ]
  },
  {
   "cell_type": "markdown",
   "metadata": {},
   "source": [
    "### Store Part I results into DataFrame\n",
    "* Load the csv exported in Part I to a DataFrame"
   ]
  },
  {
   "cell_type": "code",
   "execution_count": 2,
   "metadata": {},
   "outputs": [
    {
     "data": {
      "text/html": [
       "<div>\n",
       "<style scoped>\n",
       "    .dataframe tbody tr th:only-of-type {\n",
       "        vertical-align: middle;\n",
       "    }\n",
       "\n",
       "    .dataframe tbody tr th {\n",
       "        vertical-align: top;\n",
       "    }\n",
       "\n",
       "    .dataframe thead th {\n",
       "        text-align: right;\n",
       "    }\n",
       "</style>\n",
       "<table border=\"1\" class=\"dataframe\">\n",
       "  <thead>\n",
       "    <tr style=\"text-align: right;\">\n",
       "      <th></th>\n",
       "      <th>City</th>\n",
       "      <th>Lat</th>\n",
       "      <th>Lng</th>\n",
       "      <th>Max Temp</th>\n",
       "      <th>Humidity</th>\n",
       "      <th>Cloudiness</th>\n",
       "      <th>Wind Speed</th>\n",
       "      <th>Country</th>\n",
       "      <th>Date</th>\n",
       "    </tr>\n",
       "  </thead>\n",
       "  <tbody>\n",
       "    <tr>\n",
       "      <th>0</th>\n",
       "      <td>Vaini</td>\n",
       "      <td>-21.20</td>\n",
       "      <td>-175.20</td>\n",
       "      <td>69.80</td>\n",
       "      <td>83</td>\n",
       "      <td>75</td>\n",
       "      <td>5.82</td>\n",
       "      <td>TO</td>\n",
       "      <td>1600109575</td>\n",
       "    </tr>\n",
       "    <tr>\n",
       "      <th>1</th>\n",
       "      <td>Verāval</td>\n",
       "      <td>20.90</td>\n",
       "      <td>70.37</td>\n",
       "      <td>81.23</td>\n",
       "      <td>85</td>\n",
       "      <td>71</td>\n",
       "      <td>8.68</td>\n",
       "      <td>IN</td>\n",
       "      <td>1600109820</td>\n",
       "    </tr>\n",
       "    <tr>\n",
       "      <th>2</th>\n",
       "      <td>Coquimbo</td>\n",
       "      <td>-29.95</td>\n",
       "      <td>-71.34</td>\n",
       "      <td>57.20</td>\n",
       "      <td>76</td>\n",
       "      <td>75</td>\n",
       "      <td>14.99</td>\n",
       "      <td>CL</td>\n",
       "      <td>1600109767</td>\n",
       "    </tr>\n",
       "    <tr>\n",
       "      <th>3</th>\n",
       "      <td>Bukachacha</td>\n",
       "      <td>52.98</td>\n",
       "      <td>116.92</td>\n",
       "      <td>38.86</td>\n",
       "      <td>89</td>\n",
       "      <td>0</td>\n",
       "      <td>0.43</td>\n",
       "      <td>RU</td>\n",
       "      <td>1600109820</td>\n",
       "    </tr>\n",
       "    <tr>\n",
       "      <th>4</th>\n",
       "      <td>Bend</td>\n",
       "      <td>44.06</td>\n",
       "      <td>-121.32</td>\n",
       "      <td>79.00</td>\n",
       "      <td>16</td>\n",
       "      <td>1</td>\n",
       "      <td>10.29</td>\n",
       "      <td>US</td>\n",
       "      <td>1600109753</td>\n",
       "    </tr>\n",
       "    <tr>\n",
       "      <th>...</th>\n",
       "      <td>...</td>\n",
       "      <td>...</td>\n",
       "      <td>...</td>\n",
       "      <td>...</td>\n",
       "      <td>...</td>\n",
       "      <td>...</td>\n",
       "      <td>...</td>\n",
       "      <td>...</td>\n",
       "      <td>...</td>\n",
       "    </tr>\n",
       "    <tr>\n",
       "      <th>578</th>\n",
       "      <td>Carutapera</td>\n",
       "      <td>-1.20</td>\n",
       "      <td>-46.02</td>\n",
       "      <td>82.92</td>\n",
       "      <td>71</td>\n",
       "      <td>100</td>\n",
       "      <td>10.80</td>\n",
       "      <td>BR</td>\n",
       "      <td>1600109941</td>\n",
       "    </tr>\n",
       "    <tr>\n",
       "      <th>579</th>\n",
       "      <td>North Myrtle Beach</td>\n",
       "      <td>33.82</td>\n",
       "      <td>-78.68</td>\n",
       "      <td>89.60</td>\n",
       "      <td>59</td>\n",
       "      <td>40</td>\n",
       "      <td>10.29</td>\n",
       "      <td>US</td>\n",
       "      <td>1600109936</td>\n",
       "    </tr>\n",
       "    <tr>\n",
       "      <th>580</th>\n",
       "      <td>Shatsk</td>\n",
       "      <td>54.03</td>\n",
       "      <td>41.71</td>\n",
       "      <td>52.27</td>\n",
       "      <td>90</td>\n",
       "      <td>85</td>\n",
       "      <td>13.15</td>\n",
       "      <td>RU</td>\n",
       "      <td>1600109942</td>\n",
       "    </tr>\n",
       "    <tr>\n",
       "      <th>581</th>\n",
       "      <td>Khryashchevka</td>\n",
       "      <td>53.81</td>\n",
       "      <td>49.09</td>\n",
       "      <td>57.20</td>\n",
       "      <td>67</td>\n",
       "      <td>0</td>\n",
       "      <td>8.95</td>\n",
       "      <td>RU</td>\n",
       "      <td>1600109942</td>\n",
       "    </tr>\n",
       "    <tr>\n",
       "      <th>582</th>\n",
       "      <td>Kharp</td>\n",
       "      <td>66.80</td>\n",
       "      <td>65.81</td>\n",
       "      <td>48.18</td>\n",
       "      <td>93</td>\n",
       "      <td>100</td>\n",
       "      <td>11.77</td>\n",
       "      <td>RU</td>\n",
       "      <td>1600109813</td>\n",
       "    </tr>\n",
       "  </tbody>\n",
       "</table>\n",
       "<p>583 rows × 9 columns</p>\n",
       "</div>"
      ],
      "text/plain": [
       "                   City    Lat     Lng  Max Temp  Humidity  Cloudiness  \\\n",
       "0                 Vaini -21.20 -175.20     69.80        83          75   \n",
       "1               Verāval  20.90   70.37     81.23        85          71   \n",
       "2              Coquimbo -29.95  -71.34     57.20        76          75   \n",
       "3            Bukachacha  52.98  116.92     38.86        89           0   \n",
       "4                  Bend  44.06 -121.32     79.00        16           1   \n",
       "..                  ...    ...     ...       ...       ...         ...   \n",
       "578          Carutapera  -1.20  -46.02     82.92        71         100   \n",
       "579  North Myrtle Beach  33.82  -78.68     89.60        59          40   \n",
       "580              Shatsk  54.03   41.71     52.27        90          85   \n",
       "581       Khryashchevka  53.81   49.09     57.20        67           0   \n",
       "582               Kharp  66.80   65.81     48.18        93         100   \n",
       "\n",
       "     Wind Speed Country        Date  \n",
       "0          5.82      TO  1600109575  \n",
       "1          8.68      IN  1600109820  \n",
       "2         14.99      CL  1600109767  \n",
       "3          0.43      RU  1600109820  \n",
       "4         10.29      US  1600109753  \n",
       "..          ...     ...         ...  \n",
       "578       10.80      BR  1600109941  \n",
       "579       10.29      US  1600109936  \n",
       "580       13.15      RU  1600109942  \n",
       "581        8.95      RU  1600109942  \n",
       "582       11.77      RU  1600109813  \n",
       "\n",
       "[583 rows x 9 columns]"
      ]
     },
     "execution_count": 2,
     "metadata": {},
     "output_type": "execute_result"
    }
   ],
   "source": [
    "this_weather_df = pd.read_csv(\"../WeatherPy/Weather_Output.csv\")\n",
    "#print(this_weather_df.columns)\n",
    "this_weather_df=this_weather_df.drop(columns=['Unnamed: 0'])\n",
    "this_weather_df"
   ]
  },
  {
   "cell_type": "markdown",
   "metadata": {},
   "source": [
    "### Humidity Heatmap\n",
    "* Configure gmaps.\n",
    "* Use the Lat and Lng as locations and Humidity as the weight.\n",
    "* Add Heatmap layer to map."
   ]
  },
  {
   "cell_type": "code",
   "execution_count": 3,
   "metadata": {},
   "outputs": [
    {
     "data": {
      "application/vnd.jupyter.widget-view+json": {
       "model_id": "37e0fe58817440dc8c4c2e9f4573add1",
       "version_major": 2,
       "version_minor": 0
      },
      "text/plain": [
       "Figure(layout=FigureLayout(height='420px'))"
      ]
     },
     "metadata": {},
     "output_type": "display_data"
    }
   ],
   "source": [
    "gmaps.configure(api_key=g_key)\n",
    "locations = this_weather_df[[\"Lat\", \"Lng\"]].astype(float)\n",
    "humidity = this_weather_df[\"Humidity\"].astype(float)\n",
    "fig = gmaps.figure()\n",
    "\n",
    "heat_layer = gmaps.heatmap_layer(locations, weights=humidity, \n",
    "                                 dissipating=False, max_intensity=100,\n",
    "                                 point_radius = 1)\n",
    "\n",
    "fig.add_layer(heat_layer)\n",
    "\n",
    "fig"
   ]
  },
  {
   "cell_type": "code",
   "execution_count": null,
   "metadata": {},
   "outputs": [],
   "source": []
  },
  {
   "cell_type": "markdown",
   "metadata": {},
   "source": [
    "### Create new DataFrame fitting weather criteria\n",
    "* Narrow down the cities to fit weather conditions.\n",
    "* Drop any rows will null values."
   ]
  },
  {
   "cell_type": "code",
   "execution_count": null,
   "metadata": {},
   "outputs": [],
   "source": []
  },
  {
   "cell_type": "markdown",
   "metadata": {},
   "source": [
    "### Hotel Map\n",
    "* Store into variable named `hotel_df`.\n",
    "* Add a \"Hotel Name\" column to the DataFrame.\n",
    "* Set parameters to search for hotels with 5000 meters.\n",
    "* Hit the Google Places API for each city's coordinates.\n",
    "* Store the first Hotel result into the DataFrame.\n",
    "* Plot markers on top of the heatmap."
   ]
  },
  {
   "cell_type": "code",
   "execution_count": null,
   "metadata": {},
   "outputs": [],
   "source": []
  },
  {
   "cell_type": "code",
   "execution_count": null,
   "metadata": {},
   "outputs": [],
   "source": []
  },
  {
   "cell_type": "code",
   "execution_count": null,
   "metadata": {},
   "outputs": [],
   "source": [
    "# NOTE: Do not change any of the code in this cell\n",
    "\n",
    "# Using the template add the hotel marks to the heatmap\n",
    "info_box_template = \"\"\"\n",
    "<dl>\n",
    "<dt>Name</dt><dd>{Hotel Name}</dd>\n",
    "<dt>City</dt><dd>{City}</dd>\n",
    "<dt>Country</dt><dd>{Country}</dd>\n",
    "</dl>\n",
    "\"\"\"\n",
    "# Store the DataFrame Row\n",
    "# NOTE: be sure to update with your DataFrame name\n",
    "hotel_info = [info_box_template.format(**row) for index, row in hotel_df.iterrows()]\n",
    "locations = hotel_df[[\"Lat\", \"Lng\"]]"
   ]
  },
  {
   "cell_type": "code",
   "execution_count": null,
   "metadata": {},
   "outputs": [],
   "source": [
    "# Add marker layer ontop of heat map\n",
    "\n",
    "\n",
    "# Display figure\n"
   ]
  },
  {
   "cell_type": "code",
   "execution_count": null,
   "metadata": {},
   "outputs": [],
   "source": []
  }
 ],
 "metadata": {
  "kernelspec": {
   "display_name": "Python 3",
   "language": "python",
   "name": "python3"
  },
  "language_info": {
   "codemirror_mode": {
    "name": "ipython",
    "version": 3
   },
   "file_extension": ".py",
   "mimetype": "text/x-python",
   "name": "python",
   "nbconvert_exporter": "python",
   "pygments_lexer": "ipython3",
   "version": "3.6.10"
  },
  "latex_envs": {
   "LaTeX_envs_menu_present": true,
   "autoclose": false,
   "autocomplete": true,
   "bibliofile": "biblio.bib",
   "cite_by": "apalike",
   "current_citInitial": 1,
   "eqLabelWithNumbers": true,
   "eqNumInitial": 1,
   "hotkeys": {
    "equation": "Ctrl-E",
    "itemize": "Ctrl-I"
   },
   "labels_anchors": false,
   "latex_user_defs": false,
   "report_style_numbering": false,
   "user_envs_cfg": false
  }
 },
 "nbformat": 4,
 "nbformat_minor": 4
}
